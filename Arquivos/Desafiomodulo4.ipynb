{
  "nbformat": 4,
  "nbformat_minor": 0,
  "metadata": {
    "colab": {
      "provenance": []
    },
    "kernelspec": {
      "name": "python3",
      "display_name": "Python 3"
    },
    "language_info": {
      "name": "python"
    }
  },
  "cells": [
    {
      "cell_type": "markdown",
      "source": [
        "# <font color = gree> 1.0 Analise do fluxo de vendas na empresa I4Hoot\n",
        "- A exploração dos dados tem como objetivo, obter insights e a partir deles, traçar ações estratégicas para a organização.  "
      ],
      "metadata": {
        "id": "5IKBeXGya4ro"
      }
    },
    {
      "cell_type": "markdown",
      "source": [
        "## 1.1 Sobre a empresa\n",
        "A referida empresa trabalha com comércio de produtos em multicanais (presencial e online) em diversas categorias em várias regiões do brasil,"
      ],
      "metadata": {
        "id": "fB0zd8FWf0vO"
      }
    },
    {
      "cell_type": "markdown",
      "source": [
        "## 1.2 Sobre os dados coletados\n",
        "\n",
        "Correspondem as vendas do período de 01-01-2023 a 05-01-2023 e tras os seguintes dados, ID da venda, Data da venda, ID do cliente, Valor da venda, Produto vendido, Categoria do produto, Região da venda e Canal de venda.  "
      ],
      "metadata": {
        "id": "MyWAatJPix4P"
      }
    },
    {
      "cell_type": "markdown",
      "source": [
        "## 1.3 Objetivo\n",
        "\n",
        "Gerar um relatório, para organizar as vendas e faturamento da empresa, que responda às seguintes perguntas: <br>\n",
        "\n",
        "■ Qual a média dos valores das vendas? <br>\n",
        "■ Qual foi o total de vendas?<br>\n",
        "■ Qual o produto mais vendido?<br>\n",
        "■ Qual a categoria com maior faturamento?<br>\n",
        "■ Qual o número de vendas online?<br>\n",
        "■ Qual o número de vendas presenciais"
      ],
      "metadata": {
        "id": "KxVBOpWjjBYs"
      }
    },
    {
      "cell_type": "markdown",
      "source": [
        "## 2.0 Análise preliminar dos dados <BR>\n",
        "\n",
        "Nesse momentos vamos carregar os dados e verificar de forma explorátorio a qualidade dos mesmos, bem como, realizar uma descrição para sabermos os tipo dos dados que vão ser trabalhados."
      ],
      "metadata": {
        "id": "nC_uWurPvfaN"
      }
    },
    {
      "cell_type": "markdown",
      "source": [
        "Importando a biblioteca pandas e matplotlib."
      ],
      "metadata": {
        "id": "zCELT37EvpKf"
      }
    },
    {
      "cell_type": "code",
      "source": [
        "import pandas as pd\n",
        "import matplotlib.pyplot as plt"
      ],
      "metadata": {
        "id": "qGVzq5ZAjAuP"
      },
      "execution_count": 1,
      "outputs": []
    },
    {
      "cell_type": "markdown",
      "source": [
        "Carregando os dados do arquivo .CSV"
      ],
      "metadata": {
        "id": "nTa5NueuHx3i"
      }
    },
    {
      "cell_type": "code",
      "source": [
        "dados = pd.read_csv('dados_I4Hoot.csv')\n",
        "dados"
      ],
      "metadata": {
        "colab": {
          "base_uri": "https://localhost:8080/",
          "height": 224
        },
        "id": "s4cyAf1dzKKZ",
        "outputId": "ac8c9044-3315-4e41-a79b-439be9f4b313"
      },
      "execution_count": 2,
      "outputs": [
        {
          "output_type": "execute_result",
          "data": {
            "text/plain": [
              "   ID venda Data da venda  ID do cliente  Valor da venda Produto vendido  \\\n",
              "0         1    2023-01-01            101          100.50               A   \n",
              "1         2    2023-01-02            102          150.75               B   \n",
              "2         3    2023-01-03            103          200.00               A   \n",
              "3         4    2023-01-04            104          120.25               C   \n",
              "4         5    2023-01-05            105          180.50               B   \n",
              "\n",
              "  Categoria do produto Região da venda Canal de venda  \n",
              "0           Eletrônico           Norte         Online  \n",
              "1                 Moda             Sul     Presencial  \n",
              "2           Eletrônico         Sudeste     Presencial  \n",
              "3                 Casa           Norte         Online  \n",
              "4                 Moda             Sul         Online  "
            ],
            "text/html": [
              "\n",
              "  <div id=\"df-ae578d78-130d-4940-913c-3e8173517123\" class=\"colab-df-container\">\n",
              "    <div>\n",
              "<style scoped>\n",
              "    .dataframe tbody tr th:only-of-type {\n",
              "        vertical-align: middle;\n",
              "    }\n",
              "\n",
              "    .dataframe tbody tr th {\n",
              "        vertical-align: top;\n",
              "    }\n",
              "\n",
              "    .dataframe thead th {\n",
              "        text-align: right;\n",
              "    }\n",
              "</style>\n",
              "<table border=\"1\" class=\"dataframe\">\n",
              "  <thead>\n",
              "    <tr style=\"text-align: right;\">\n",
              "      <th></th>\n",
              "      <th>ID venda</th>\n",
              "      <th>Data da venda</th>\n",
              "      <th>ID do cliente</th>\n",
              "      <th>Valor da venda</th>\n",
              "      <th>Produto vendido</th>\n",
              "      <th>Categoria do produto</th>\n",
              "      <th>Região da venda</th>\n",
              "      <th>Canal de venda</th>\n",
              "    </tr>\n",
              "  </thead>\n",
              "  <tbody>\n",
              "    <tr>\n",
              "      <th>0</th>\n",
              "      <td>1</td>\n",
              "      <td>2023-01-01</td>\n",
              "      <td>101</td>\n",
              "      <td>100.50</td>\n",
              "      <td>A</td>\n",
              "      <td>Eletrônico</td>\n",
              "      <td>Norte</td>\n",
              "      <td>Online</td>\n",
              "    </tr>\n",
              "    <tr>\n",
              "      <th>1</th>\n",
              "      <td>2</td>\n",
              "      <td>2023-01-02</td>\n",
              "      <td>102</td>\n",
              "      <td>150.75</td>\n",
              "      <td>B</td>\n",
              "      <td>Moda</td>\n",
              "      <td>Sul</td>\n",
              "      <td>Presencial</td>\n",
              "    </tr>\n",
              "    <tr>\n",
              "      <th>2</th>\n",
              "      <td>3</td>\n",
              "      <td>2023-01-03</td>\n",
              "      <td>103</td>\n",
              "      <td>200.00</td>\n",
              "      <td>A</td>\n",
              "      <td>Eletrônico</td>\n",
              "      <td>Sudeste</td>\n",
              "      <td>Presencial</td>\n",
              "    </tr>\n",
              "    <tr>\n",
              "      <th>3</th>\n",
              "      <td>4</td>\n",
              "      <td>2023-01-04</td>\n",
              "      <td>104</td>\n",
              "      <td>120.25</td>\n",
              "      <td>C</td>\n",
              "      <td>Casa</td>\n",
              "      <td>Norte</td>\n",
              "      <td>Online</td>\n",
              "    </tr>\n",
              "    <tr>\n",
              "      <th>4</th>\n",
              "      <td>5</td>\n",
              "      <td>2023-01-05</td>\n",
              "      <td>105</td>\n",
              "      <td>180.50</td>\n",
              "      <td>B</td>\n",
              "      <td>Moda</td>\n",
              "      <td>Sul</td>\n",
              "      <td>Online</td>\n",
              "    </tr>\n",
              "  </tbody>\n",
              "</table>\n",
              "</div>\n",
              "    <div class=\"colab-df-buttons\">\n",
              "\n",
              "  <div class=\"colab-df-container\">\n",
              "    <button class=\"colab-df-convert\" onclick=\"convertToInteractive('df-ae578d78-130d-4940-913c-3e8173517123')\"\n",
              "            title=\"Convert this dataframe to an interactive table.\"\n",
              "            style=\"display:none;\">\n",
              "\n",
              "  <svg xmlns=\"http://www.w3.org/2000/svg\" height=\"24px\" viewBox=\"0 -960 960 960\">\n",
              "    <path d=\"M120-120v-720h720v720H120Zm60-500h600v-160H180v160Zm220 220h160v-160H400v160Zm0 220h160v-160H400v160ZM180-400h160v-160H180v160Zm440 0h160v-160H620v160ZM180-180h160v-160H180v160Zm440 0h160v-160H620v160Z\"/>\n",
              "  </svg>\n",
              "    </button>\n",
              "\n",
              "  <style>\n",
              "    .colab-df-container {\n",
              "      display:flex;\n",
              "      gap: 12px;\n",
              "    }\n",
              "\n",
              "    .colab-df-convert {\n",
              "      background-color: #E8F0FE;\n",
              "      border: none;\n",
              "      border-radius: 50%;\n",
              "      cursor: pointer;\n",
              "      display: none;\n",
              "      fill: #1967D2;\n",
              "      height: 32px;\n",
              "      padding: 0 0 0 0;\n",
              "      width: 32px;\n",
              "    }\n",
              "\n",
              "    .colab-df-convert:hover {\n",
              "      background-color: #E2EBFA;\n",
              "      box-shadow: 0px 1px 2px rgba(60, 64, 67, 0.3), 0px 1px 3px 1px rgba(60, 64, 67, 0.15);\n",
              "      fill: #174EA6;\n",
              "    }\n",
              "\n",
              "    .colab-df-buttons div {\n",
              "      margin-bottom: 4px;\n",
              "    }\n",
              "\n",
              "    [theme=dark] .colab-df-convert {\n",
              "      background-color: #3B4455;\n",
              "      fill: #D2E3FC;\n",
              "    }\n",
              "\n",
              "    [theme=dark] .colab-df-convert:hover {\n",
              "      background-color: #434B5C;\n",
              "      box-shadow: 0px 1px 3px 1px rgba(0, 0, 0, 0.15);\n",
              "      filter: drop-shadow(0px 1px 2px rgba(0, 0, 0, 0.3));\n",
              "      fill: #FFFFFF;\n",
              "    }\n",
              "  </style>\n",
              "\n",
              "    <script>\n",
              "      const buttonEl =\n",
              "        document.querySelector('#df-ae578d78-130d-4940-913c-3e8173517123 button.colab-df-convert');\n",
              "      buttonEl.style.display =\n",
              "        google.colab.kernel.accessAllowed ? 'block' : 'none';\n",
              "\n",
              "      async function convertToInteractive(key) {\n",
              "        const element = document.querySelector('#df-ae578d78-130d-4940-913c-3e8173517123');\n",
              "        const dataTable =\n",
              "          await google.colab.kernel.invokeFunction('convertToInteractive',\n",
              "                                                    [key], {});\n",
              "        if (!dataTable) return;\n",
              "\n",
              "        const docLinkHtml = 'Like what you see? Visit the ' +\n",
              "          '<a target=\"_blank\" href=https://colab.research.google.com/notebooks/data_table.ipynb>data table notebook</a>'\n",
              "          + ' to learn more about interactive tables.';\n",
              "        element.innerHTML = '';\n",
              "        dataTable['output_type'] = 'display_data';\n",
              "        await google.colab.output.renderOutput(dataTable, element);\n",
              "        const docLink = document.createElement('div');\n",
              "        docLink.innerHTML = docLinkHtml;\n",
              "        element.appendChild(docLink);\n",
              "      }\n",
              "    </script>\n",
              "  </div>\n",
              "\n",
              "\n",
              "<div id=\"df-1c181b46-a3ce-4531-b503-a62ee8aa8ff9\">\n",
              "  <button class=\"colab-df-quickchart\" onclick=\"quickchart('df-1c181b46-a3ce-4531-b503-a62ee8aa8ff9')\"\n",
              "            title=\"Suggest charts.\"\n",
              "            style=\"display:none;\">\n",
              "\n",
              "<svg xmlns=\"http://www.w3.org/2000/svg\" height=\"24px\"viewBox=\"0 0 24 24\"\n",
              "     width=\"24px\">\n",
              "    <g>\n",
              "        <path d=\"M19 3H5c-1.1 0-2 .9-2 2v14c0 1.1.9 2 2 2h14c1.1 0 2-.9 2-2V5c0-1.1-.9-2-2-2zM9 17H7v-7h2v7zm4 0h-2V7h2v10zm4 0h-2v-4h2v4z\"/>\n",
              "    </g>\n",
              "</svg>\n",
              "  </button>\n",
              "\n",
              "<style>\n",
              "  .colab-df-quickchart {\n",
              "      --bg-color: #E8F0FE;\n",
              "      --fill-color: #1967D2;\n",
              "      --hover-bg-color: #E2EBFA;\n",
              "      --hover-fill-color: #174EA6;\n",
              "      --disabled-fill-color: #AAA;\n",
              "      --disabled-bg-color: #DDD;\n",
              "  }\n",
              "\n",
              "  [theme=dark] .colab-df-quickchart {\n",
              "      --bg-color: #3B4455;\n",
              "      --fill-color: #D2E3FC;\n",
              "      --hover-bg-color: #434B5C;\n",
              "      --hover-fill-color: #FFFFFF;\n",
              "      --disabled-bg-color: #3B4455;\n",
              "      --disabled-fill-color: #666;\n",
              "  }\n",
              "\n",
              "  .colab-df-quickchart {\n",
              "    background-color: var(--bg-color);\n",
              "    border: none;\n",
              "    border-radius: 50%;\n",
              "    cursor: pointer;\n",
              "    display: none;\n",
              "    fill: var(--fill-color);\n",
              "    height: 32px;\n",
              "    padding: 0;\n",
              "    width: 32px;\n",
              "  }\n",
              "\n",
              "  .colab-df-quickchart:hover {\n",
              "    background-color: var(--hover-bg-color);\n",
              "    box-shadow: 0 1px 2px rgba(60, 64, 67, 0.3), 0 1px 3px 1px rgba(60, 64, 67, 0.15);\n",
              "    fill: var(--button-hover-fill-color);\n",
              "  }\n",
              "\n",
              "  .colab-df-quickchart-complete:disabled,\n",
              "  .colab-df-quickchart-complete:disabled:hover {\n",
              "    background-color: var(--disabled-bg-color);\n",
              "    fill: var(--disabled-fill-color);\n",
              "    box-shadow: none;\n",
              "  }\n",
              "\n",
              "  .colab-df-spinner {\n",
              "    border: 2px solid var(--fill-color);\n",
              "    border-color: transparent;\n",
              "    border-bottom-color: var(--fill-color);\n",
              "    animation:\n",
              "      spin 1s steps(1) infinite;\n",
              "  }\n",
              "\n",
              "  @keyframes spin {\n",
              "    0% {\n",
              "      border-color: transparent;\n",
              "      border-bottom-color: var(--fill-color);\n",
              "      border-left-color: var(--fill-color);\n",
              "    }\n",
              "    20% {\n",
              "      border-color: transparent;\n",
              "      border-left-color: var(--fill-color);\n",
              "      border-top-color: var(--fill-color);\n",
              "    }\n",
              "    30% {\n",
              "      border-color: transparent;\n",
              "      border-left-color: var(--fill-color);\n",
              "      border-top-color: var(--fill-color);\n",
              "      border-right-color: var(--fill-color);\n",
              "    }\n",
              "    40% {\n",
              "      border-color: transparent;\n",
              "      border-right-color: var(--fill-color);\n",
              "      border-top-color: var(--fill-color);\n",
              "    }\n",
              "    60% {\n",
              "      border-color: transparent;\n",
              "      border-right-color: var(--fill-color);\n",
              "    }\n",
              "    80% {\n",
              "      border-color: transparent;\n",
              "      border-right-color: var(--fill-color);\n",
              "      border-bottom-color: var(--fill-color);\n",
              "    }\n",
              "    90% {\n",
              "      border-color: transparent;\n",
              "      border-bottom-color: var(--fill-color);\n",
              "    }\n",
              "  }\n",
              "</style>\n",
              "\n",
              "  <script>\n",
              "    async function quickchart(key) {\n",
              "      const quickchartButtonEl =\n",
              "        document.querySelector('#' + key + ' button');\n",
              "      quickchartButtonEl.disabled = true;  // To prevent multiple clicks.\n",
              "      quickchartButtonEl.classList.add('colab-df-spinner');\n",
              "      try {\n",
              "        const charts = await google.colab.kernel.invokeFunction(\n",
              "            'suggestCharts', [key], {});\n",
              "      } catch (error) {\n",
              "        console.error('Error during call to suggestCharts:', error);\n",
              "      }\n",
              "      quickchartButtonEl.classList.remove('colab-df-spinner');\n",
              "      quickchartButtonEl.classList.add('colab-df-quickchart-complete');\n",
              "    }\n",
              "    (() => {\n",
              "      let quickchartButtonEl =\n",
              "        document.querySelector('#df-1c181b46-a3ce-4531-b503-a62ee8aa8ff9 button');\n",
              "      quickchartButtonEl.style.display =\n",
              "        google.colab.kernel.accessAllowed ? 'block' : 'none';\n",
              "    })();\n",
              "  </script>\n",
              "</div>\n",
              "    </div>\n",
              "  </div>\n"
            ]
          },
          "metadata": {},
          "execution_count": 2
        }
      ]
    },
    {
      "cell_type": "markdown",
      "source": [
        "- Apresentando o formato do dataset"
      ],
      "metadata": {
        "id": "33IDKIxBO5lO"
      }
    },
    {
      "cell_type": "code",
      "source": [
        "dados.shape"
      ],
      "metadata": {
        "colab": {
          "base_uri": "https://localhost:8080/"
        },
        "id": "0H7e22awzmk_",
        "outputId": "8469523d-3eaa-4ce6-8aaf-1aea002e9177"
      },
      "execution_count": 3,
      "outputs": [
        {
          "output_type": "execute_result",
          "data": {
            "text/plain": [
              "(5, 8)"
            ]
          },
          "metadata": {},
          "execution_count": 3
        }
      ]
    },
    {
      "cell_type": "markdown",
      "source": [
        "Identificamos que o dataset tem um total de 5 linhas, que corresponde a cada dia da semana e 8 colunas."
      ],
      "metadata": {
        "id": "FgZS5zshPKGr"
      }
    },
    {
      "cell_type": "markdown",
      "source": [
        "- Os tipos de dados que encontramos no dataset"
      ],
      "metadata": {
        "id": "F3PHWoCwTms8"
      }
    },
    {
      "cell_type": "code",
      "source": [
        "display(dados.dtypes)"
      ],
      "metadata": {
        "colab": {
          "base_uri": "https://localhost:8080/",
          "height": 173
        },
        "id": "9gSUeHHcPfbJ",
        "outputId": "76f65a38-db0d-49c4-b7c6-e024648958db"
      },
      "execution_count": 4,
      "outputs": [
        {
          "output_type": "display_data",
          "data": {
            "text/plain": [
              "ID venda                  int64\n",
              "Data da venda            object\n",
              "ID do cliente             int64\n",
              "Valor da venda          float64\n",
              "Produto vendido          object\n",
              "Categoria do produto     object\n",
              "Região da venda          object\n",
              "Canal de venda           object\n",
              "dtype: object"
            ]
          },
          "metadata": {}
        }
      ]
    },
    {
      "cell_type": "markdown",
      "source": [
        "Os tipos de dados do dataset são numericos e texto."
      ],
      "metadata": {
        "id": "u2SJRsrFPsN1"
      }
    },
    {
      "cell_type": "markdown",
      "source": [
        "- Verificar o percentual de dados faltantes no nosso dataset"
      ],
      "metadata": {
        "id": "e-xtnm-zQKTQ"
      }
    },
    {
      "cell_type": "code",
      "source": [
        "(dados.isnull().sum() / dados.shape[0]).sort_values()"
      ],
      "metadata": {
        "colab": {
          "base_uri": "https://localhost:8080/"
        },
        "id": "QNZx8olrQP0q",
        "outputId": "f7edcef2-2176-43d5-bc68-3489e7b7116d"
      },
      "execution_count": 5,
      "outputs": [
        {
          "output_type": "execute_result",
          "data": {
            "text/plain": [
              "ID venda                0.0\n",
              "Data da venda           0.0\n",
              "ID do cliente           0.0\n",
              "Valor da venda          0.0\n",
              "Produto vendido         0.0\n",
              "Categoria do produto    0.0\n",
              "Região da venda         0.0\n",
              "Canal de venda          0.0\n",
              "dtype: float64"
            ]
          },
          "metadata": {},
          "execution_count": 5
        }
      ]
    },
    {
      "cell_type": "markdown",
      "source": [
        "Com a aplicação dessa técnica de estatística descritiva, podemos ver que o percentual de dados faltantes é zero, todas os campos tem valores."
      ],
      "metadata": {
        "id": "1JPcns7OQZkW"
      }
    },
    {
      "cell_type": "markdown",
      "source": [
        "- Exibição do histograma para tentar identificar inicialmente a presença de outliers."
      ],
      "metadata": {
        "id": "mUIfaLJ2QvSH"
      }
    },
    {
      "cell_type": "code",
      "source": [
        "dados.hist()"
      ],
      "metadata": {
        "colab": {
          "base_uri": "https://localhost:8080/",
          "height": 521
        },
        "id": "N_02xJtYQw-j",
        "outputId": "9f3a6071-23e4-40f9-bde2-cad2300d0864"
      },
      "execution_count": 6,
      "outputs": [
        {
          "output_type": "execute_result",
          "data": {
            "text/plain": [
              "array([[<Axes: title={'center': 'ID venda'}>,\n",
              "        <Axes: title={'center': 'ID do cliente'}>],\n",
              "       [<Axes: title={'center': 'Valor da venda'}>, <Axes: >]],\n",
              "      dtype=object)"
            ]
          },
          "metadata": {},
          "execution_count": 6
        },
        {
          "output_type": "display_data",
          "data": {
            "text/plain": [
              "<Figure size 640x480 with 4 Axes>"
            ],
            "image/png": "[encoded data removed]"
          },
          "metadata": {}
        }
      ]
    },
    {
      "cell_type": "markdown",
      "source": [
        "A distribuição do histograma nos mostra que não temos presença de outliers no dataset, os números estão com certa próximidade, concluo que não temos disparidade nos dados."
      ],
      "metadata": {
        "id": "rieKzbayRCMu"
      }
    },
    {
      "cell_type": "markdown",
      "source": [
        "- Resumo dos principais indicadores"
      ],
      "metadata": {
        "id": "tz3L0uXNRIwZ"
      }
    },
    {
      "cell_type": "code",
      "source": [
        "dados.describe()"
      ],
      "metadata": {
        "id": "XwM0zR8MRKKC",
        "outputId": "a04a1a41-a26c-4e1a-dda8-16cc04005a83",
        "colab": {
          "base_uri": "https://localhost:8080/",
          "height": 300
        }
      },
      "execution_count": 7,
      "outputs": [
        {
          "output_type": "execute_result",
          "data": {
            "text/plain": [
              "       ID venda  ID do cliente  Valor da venda\n",
              "count  5.000000       5.000000        5.000000\n",
              "mean   3.000000     103.000000      150.400000\n",
              "std    1.581139       1.581139       41.125798\n",
              "min    1.000000     101.000000      100.500000\n",
              "25%    2.000000     102.000000      120.250000\n",
              "50%    3.000000     103.000000      150.750000\n",
              "75%    4.000000     104.000000      180.500000\n",
              "max    5.000000     105.000000      200.000000"
            ],
            "text/html": [
              "\n",
              "  <div id=\"df-e73a37fe-5f94-4f53-bd23-d24f3c7b8dd1\" class=\"colab-df-container\">\n",
              "    <div>\n",
              "<style scoped>\n",
              "    .dataframe tbody tr th:only-of-type {\n",
              "        vertical-align: middle;\n",
              "    }\n",
              "\n",
              "    .dataframe tbody tr th {\n",
              "        vertical-align: top;\n",
              "    }\n",
              "\n",
              "    .dataframe thead th {\n",
              "        text-align: right;\n",
              "    }\n",
              "</style>\n",
              "<table border=\"1\" class=\"dataframe\">\n",
              "  <thead>\n",
              "    <tr style=\"text-align: right;\">\n",
              "      <th></th>\n",
              "      <th>ID venda</th>\n",
              "      <th>ID do cliente</th>\n",
              "      <th>Valor da venda</th>\n",
              "    </tr>\n",
              "  </thead>\n",
              "  <tbody>\n",
              "    <tr>\n",
              "      <th>count</th>\n",
              "      <td>5.000000</td>\n",
              "      <td>5.000000</td>\n",
              "      <td>5.000000</td>\n",
              "    </tr>\n",
              "    <tr>\n",
              "      <th>mean</th>\n",
              "      <td>3.000000</td>\n",
              "      <td>103.000000</td>\n",
              "      <td>150.400000</td>\n",
              "    </tr>\n",
              "    <tr>\n",
              "      <th>std</th>\n",
              "      <td>1.581139</td>\n",
              "      <td>1.581139</td>\n",
              "      <td>41.125798</td>\n",
              "    </tr>\n",
              "    <tr>\n",
              "      <th>min</th>\n",
              "      <td>1.000000</td>\n",
              "      <td>101.000000</td>\n",
              "      <td>100.500000</td>\n",
              "    </tr>\n",
              "    <tr>\n",
              "      <th>25%</th>\n",
              "      <td>2.000000</td>\n",
              "      <td>102.000000</td>\n",
              "      <td>120.250000</td>\n",
              "    </tr>\n",
              "    <tr>\n",
              "      <th>50%</th>\n",
              "      <td>3.000000</td>\n",
              "      <td>103.000000</td>\n",
              "      <td>150.750000</td>\n",
              "    </tr>\n",
              "    <tr>\n",
              "      <th>75%</th>\n",
              "      <td>4.000000</td>\n",
              "      <td>104.000000</td>\n",
              "      <td>180.500000</td>\n",
              "    </tr>\n",
              "    <tr>\n",
              "      <th>max</th>\n",
              "      <td>5.000000</td>\n",
              "      <td>105.000000</td>\n",
              "      <td>200.000000</td>\n",
              "    </tr>\n",
              "  </tbody>\n",
              "</table>\n",
              "</div>\n",
              "    <div class=\"colab-df-buttons\">\n",
              "\n",
              "  <div class=\"colab-df-container\">\n",
              "    <button class=\"colab-df-convert\" onclick=\"convertToInteractive('df-e73a37fe-5f94-4f53-bd23-d24f3c7b8dd1')\"\n",
              "            title=\"Convert this dataframe to an interactive table.\"\n",
              "            style=\"display:none;\">\n",
              "\n",
              "  <svg xmlns=\"http://www.w3.org/2000/svg\" height=\"24px\" viewBox=\"0 -960 960 960\">\n",
              "    <path d=\"M120-120v-720h720v720H120Zm60-500h600v-160H180v160Zm220 220h160v-160H400v160Zm0 220h160v-160H400v160ZM180-400h160v-160H180v160Zm440 0h160v-160H620v160ZM180-180h160v-160H180v160Zm440 0h160v-160H620v160Z\"/>\n",
              "  </svg>\n",
              "    </button>\n",
              "\n",
              "  <style>\n",
              "    .colab-df-container {\n",
              "      display:flex;\n",
              "      gap: 12px;\n",
              "    }\n",
              "\n",
              "    .colab-df-convert {\n",
              "      background-color: #E8F0FE;\n",
              "      border: none;\n",
              "      border-radius: 50%;\n",
              "      cursor: pointer;\n",
              "      display: none;\n",
              "      fill: #1967D2;\n",
              "      height: 32px;\n",
              "      padding: 0 0 0 0;\n",
              "      width: 32px;\n",
              "    }\n",
              "\n",
              "    .colab-df-convert:hover {\n",
              "      background-color: #E2EBFA;\n",
              "      box-shadow: 0px 1px 2px rgba(60, 64, 67, 0.3), 0px 1px 3px 1px rgba(60, 64, 67, 0.15);\n",
              "      fill: #174EA6;\n",
              "    }\n",
              "\n",
              "    .colab-df-buttons div {\n",
              "      margin-bottom: 4px;\n",
              "    }\n",
              "\n",
              "    [theme=dark] .colab-df-convert {\n",
              "      background-color: #3B4455;\n",
              "      fill: #D2E3FC;\n",
              "    }\n",
              "\n",
              "    [theme=dark] .colab-df-convert:hover {\n",
              "      background-color: #434B5C;\n",
              "      box-shadow: 0px 1px 3px 1px rgba(0, 0, 0, 0.15);\n",
              "      filter: drop-shadow(0px 1px 2px rgba(0, 0, 0, 0.3));\n",
              "      fill: #FFFFFF;\n",
              "    }\n",
              "  </style>\n",
              "\n",
              "    <script>\n",
              "      const buttonEl =\n",
              "        document.querySelector('#df-e73a37fe-5f94-4f53-bd23-d24f3c7b8dd1 button.colab-df-convert');\n",
              "      buttonEl.style.display =\n",
              "        google.colab.kernel.accessAllowed ? 'block' : 'none';\n",
              "\n",
              "      async function convertToInteractive(key) {\n",
              "        const element = document.querySelector('#df-e73a37fe-5f94-4f53-bd23-d24f3c7b8dd1');\n",
              "        const dataTable =\n",
              "          await google.colab.kernel.invokeFunction('convertToInteractive',\n",
              "                                                    [key], {});\n",
              "        if (!dataTable) return;\n",
              "\n",
              "        const docLinkHtml = 'Like what you see? Visit the ' +\n",
              "          '<a target=\"_blank\" href=https://colab.research.google.com/notebooks/data_table.ipynb>data table notebook</a>'\n",
              "          + ' to learn more about interactive tables.';\n",
              "        element.innerHTML = '';\n",
              "        dataTable['output_type'] = 'display_data';\n",
              "        await google.colab.output.renderOutput(dataTable, element);\n",
              "        const docLink = document.createElement('div');\n",
              "        docLink.innerHTML = docLinkHtml;\n",
              "        element.appendChild(docLink);\n",
              "      }\n",
              "    </script>\n",
              "  </div>\n",
              "\n",
              "\n",
              "<div id=\"df-253d5b3e-b9e9-457c-bc91-7c38946eb61a\">\n",
              "  <button class=\"colab-df-quickchart\" onclick=\"quickchart('df-253d5b3e-b9e9-457c-bc91-7c38946eb61a')\"\n",
              "            title=\"Suggest charts.\"\n",
              "            style=\"display:none;\">\n",
              "\n",
              "<svg xmlns=\"http://www.w3.org/2000/svg\" height=\"24px\"viewBox=\"0 0 24 24\"\n",
              "     width=\"24px\">\n",
              "    <g>\n",
              "        <path d=\"M19 3H5c-1.1 0-2 .9-2 2v14c0 1.1.9 2 2 2h14c1.1 0 2-.9 2-2V5c0-1.1-.9-2-2-2zM9 17H7v-7h2v7zm4 0h-2V7h2v10zm4 0h-2v-4h2v4z\"/>\n",
              "    </g>\n",
              "</svg>\n",
              "  </button>\n",
              "\n",
              "<style>\n",
              "  .colab-df-quickchart {\n",
              "      --bg-color: #E8F0FE;\n",
              "      --fill-color: #1967D2;\n",
              "      --hover-bg-color: #E2EBFA;\n",
              "      --hover-fill-color: #174EA6;\n",
              "      --disabled-fill-color: #AAA;\n",
              "      --disabled-bg-color: #DDD;\n",
              "  }\n",
              "\n",
              "  [theme=dark] .colab-df-quickchart {\n",
              "      --bg-color: #3B4455;\n",
              "      --fill-color: #D2E3FC;\n",
              "      --hover-bg-color: #434B5C;\n",
              "      --hover-fill-color: #FFFFFF;\n",
              "      --disabled-bg-color: #3B4455;\n",
              "      --disabled-fill-color: #666;\n",
              "  }\n",
              "\n",
              "  .colab-df-quickchart {\n",
              "    background-color: var(--bg-color);\n",
              "    border: none;\n",
              "    border-radius: 50%;\n",
              "    cursor: pointer;\n",
              "    display: none;\n",
              "    fill: var(--fill-color);\n",
              "    height: 32px;\n",
              "    padding: 0;\n",
              "    width: 32px;\n",
              "  }\n",
              "\n",
              "  .colab-df-quickchart:hover {\n",
              "    background-color: var(--hover-bg-color);\n",
              "    box-shadow: 0 1px 2px rgba(60, 64, 67, 0.3), 0 1px 3px 1px rgba(60, 64, 67, 0.15);\n",
              "    fill: var(--button-hover-fill-color);\n",
              "  }\n",
              "\n",
              "  .colab-df-quickchart-complete:disabled,\n",
              "  .colab-df-quickchart-complete:disabled:hover {\n",
              "    background-color: var(--disabled-bg-color);\n",
              "    fill: var(--disabled-fill-color);\n",
              "    box-shadow: none;\n",
              "  }\n",
              "\n",
              "  .colab-df-spinner {\n",
              "    border: 2px solid var(--fill-color);\n",
              "    border-color: transparent;\n",
              "    border-bottom-color: var(--fill-color);\n",
              "    animation:\n",
              "      spin 1s steps(1) infinite;\n",
              "  }\n",
              "\n",
              "  @keyframes spin {\n",
              "    0% {\n",
              "      border-color: transparent;\n",
              "      border-bottom-color: var(--fill-color);\n",
              "      border-left-color: var(--fill-color);\n",
              "    }\n",
              "    20% {\n",
              "      border-color: transparent;\n",
              "      border-left-color: var(--fill-color);\n",
              "      border-top-color: var(--fill-color);\n",
              "    }\n",
              "    30% {\n",
              "      border-color: transparent;\n",
              "      border-left-color: var(--fill-color);\n",
              "      border-top-color: var(--fill-color);\n",
              "      border-right-color: var(--fill-color);\n",
              "    }\n",
              "    40% {\n",
              "      border-color: transparent;\n",
              "      border-right-color: var(--fill-color);\n",
              "      border-top-color: var(--fill-color);\n",
              "    }\n",
              "    60% {\n",
              "      border-color: transparent;\n",
              "      border-right-color: var(--fill-color);\n",
              "    }\n",
              "    80% {\n",
              "      border-color: transparent;\n",
              "      border-right-color: var(--fill-color);\n",
              "      border-bottom-color: var(--fill-color);\n",
              "    }\n",
              "    90% {\n",
              "      border-color: transparent;\n",
              "      border-bottom-color: var(--fill-color);\n",
              "    }\n",
              "  }\n",
              "</style>\n",
              "\n",
              "  <script>\n",
              "    async function quickchart(key) {\n",
              "      const quickchartButtonEl =\n",
              "        document.querySelector('#' + key + ' button');\n",
              "      quickchartButtonEl.disabled = true;  // To prevent multiple clicks.\n",
              "      quickchartButtonEl.classList.add('colab-df-spinner');\n",
              "      try {\n",
              "        const charts = await google.colab.kernel.invokeFunction(\n",
              "            'suggestCharts', [key], {});\n",
              "      } catch (error) {\n",
              "        console.error('Error during call to suggestCharts:', error);\n",
              "      }\n",
              "      quickchartButtonEl.classList.remove('colab-df-spinner');\n",
              "      quickchartButtonEl.classList.add('colab-df-quickchart-complete');\n",
              "    }\n",
              "    (() => {\n",
              "      let quickchartButtonEl =\n",
              "        document.querySelector('#df-253d5b3e-b9e9-457c-bc91-7c38946eb61a button');\n",
              "      quickchartButtonEl.style.display =\n",
              "        google.colab.kernel.accessAllowed ? 'block' : 'none';\n",
              "    })();\n",
              "  </script>\n",
              "</div>\n",
              "    </div>\n",
              "  </div>\n"
            ]
          },
          "metadata": {},
          "execution_count": 7
        }
      ]
    },
    {
      "cell_type": "markdown",
      "source": [
        "No resumo das estatísticas podemos perceber que no desvio padrão (std) da coluna Valor da venda, temos um grau de variação pequena em relação a média, que traz segurança para análise desse conjunto de dados."
      ],
      "metadata": {
        "id": "55IzRKbsDLWh"
      }
    },
    {
      "cell_type": "markdown",
      "source": [
        "- **Qual a média dos valores das vendas?**"
      ],
      "metadata": {
        "id": "2dKMP3wsDpWU"
      }
    },
    {
      "cell_type": "code",
      "source": [
        "media_vendas = dados['Valor da venda'].mean()\n",
        "print(f'O valor médio das vendas: {media_vendas}')"
      ],
      "metadata": {
        "colab": {
          "base_uri": "https://localhost:8080/"
        },
        "id": "1hC4a628EOCM",
        "outputId": "416703b9-00a4-4fc0-cc58-1f976b871413"
      },
      "execution_count": 8,
      "outputs": [
        {
          "output_type": "stream",
          "name": "stdout",
          "text": [
            "O valor médio das vendas: 150.4\n"
          ]
        }
      ]
    },
    {
      "cell_type": "markdown",
      "source": [
        "A partir do valor encontrado, a empresa I4Hoot poderá criar um planejamento da previsão de vendas e também estimar o potencial dos clientes."
      ],
      "metadata": {
        "id": "8eLD6OrGmsU1"
      }
    },
    {
      "cell_type": "markdown",
      "source": [
        "- **Qual foi o total de vendas?**"
      ],
      "metadata": {
        "id": "DWOaTWpJIQ__"
      }
    },
    {
      "cell_type": "code",
      "source": [
        "total_vendas = dados['Valor da venda'].sum()\n",
        "print(f'Total de vendas: {total_vendas}')"
      ],
      "metadata": {
        "colab": {
          "base_uri": "https://localhost:8080/"
        },
        "id": "66uyOrYnIsud",
        "outputId": "bee6748e-ead8-411b-c5f1-502352f3688d"
      },
      "execution_count": 9,
      "outputs": [
        {
          "output_type": "stream",
          "name": "stdout",
          "text": [
            "Total de vendas: 752.0\n"
          ]
        }
      ]
    },
    {
      "cell_type": "markdown",
      "source": [
        "Com o resultado obtido no período, podemos realizar um previsão de vendas para o mês ou em um determinado período de tempo, Previsão de vendas é uma estratégia que tem como objetivo auxiliar a empresa a ter uma estimativa sobre os negócios que serão fechados."
      ],
      "metadata": {
        "id": "BTxXZA77GAEI"
      }
    },
    {
      "cell_type": "markdown",
      "source": [
        "**Qual o produto mais vendido?**"
      ],
      "metadata": {
        "id": "a31rn9_eK_q9"
      }
    },
    {
      "cell_type": "code",
      "source": [
        "prod_mais_vendido = dados['Produto vendido'].value_counts().head(2)\n",
        "print(f'O produto mais vendido:\\n{prod_mais_vendido}')"
      ],
      "metadata": {
        "colab": {
          "base_uri": "https://localhost:8080/"
        },
        "id": "rSKufiLJLI2_",
        "outputId": "ab60f4ad-5ba6-4f3d-ad7b-6f68770c2301"
      },
      "execution_count": 10,
      "outputs": [
        {
          "output_type": "stream",
          "name": "stdout",
          "text": [
            "O produto mais vendido:\n",
            "A    2\n",
            "B    2\n",
            "Name: Produto vendido, dtype: int64\n"
          ]
        }
      ]
    },
    {
      "cell_type": "markdown",
      "source": [
        "Os dados mostram a preferência dos nossos clientes para a aquisição dos produtos A e B, devemos analisar o estoque para atender a demanda no período determinado, visto que, o faturamento desses produtos no período corresponde a mais de 75% do total de vendas."
      ],
      "metadata": {
        "id": "2vM-6f2tNQRv"
      }
    },
    {
      "cell_type": "markdown",
      "source": [
        "- **Qual a categoria com maior faturamento?**\n"
      ],
      "metadata": {
        "id": "EkjaS4IZMR2c"
      }
    },
    {
      "cell_type": "code",
      "source": [
        "categoria_maior_faturamento = dados.groupby('Categoria do produto')['Valor da venda'].sum(numeric_only=True).reset_index().sort_values(by = 'Valor da venda', ascending=False).head(1)\n",
        "categoria_maior_faturamento"
      ],
      "metadata": {
        "colab": {
          "base_uri": "https://localhost:8080/",
          "height": 81
        },
        "id": "qhYnoOvkMi4T",
        "outputId": "e41e30d2-d7fd-43d0-b080-2d9c4b838884"
      },
      "execution_count": 11,
      "outputs": [
        {
          "output_type": "execute_result",
          "data": {
            "text/plain": [
              "  Categoria do produto  Valor da venda\n",
              "2                 Moda          331.25"
            ],
            "text/html": [
              "\n",
              "  <div id=\"df-8a80b0e5-1e96-4b64-89fa-2f0165cdadd3\" class=\"colab-df-container\">\n",
              "    <div>\n",
              "<style scoped>\n",
              "    .dataframe tbody tr th:only-of-type {\n",
              "        vertical-align: middle;\n",
              "    }\n",
              "\n",
              "    .dataframe tbody tr th {\n",
              "        vertical-align: top;\n",
              "    }\n",
              "\n",
              "    .dataframe thead th {\n",
              "        text-align: right;\n",
              "    }\n",
              "</style>\n",
              "<table border=\"1\" class=\"dataframe\">\n",
              "  <thead>\n",
              "    <tr style=\"text-align: right;\">\n",
              "      <th></th>\n",
              "      <th>Categoria do produto</th>\n",
              "      <th>Valor da venda</th>\n",
              "    </tr>\n",
              "  </thead>\n",
              "  <tbody>\n",
              "    <tr>\n",
              "      <th>2</th>\n",
              "      <td>Moda</td>\n",
              "      <td>331.25</td>\n",
              "    </tr>\n",
              "  </tbody>\n",
              "</table>\n",
              "</div>\n",
              "    <div class=\"colab-df-buttons\">\n",
              "\n",
              "  <div class=\"colab-df-container\">\n",
              "    <button class=\"colab-df-convert\" onclick=\"convertToInteractive('df-8a80b0e5-1e96-4b64-89fa-2f0165cdadd3')\"\n",
              "            title=\"Convert this dataframe to an interactive table.\"\n",
              "            style=\"display:none;\">\n",
              "\n",
              "  <svg xmlns=\"http://www.w3.org/2000/svg\" height=\"24px\" viewBox=\"0 -960 960 960\">\n",
              "    <path d=\"M120-120v-720h720v720H120Zm60-500h600v-160H180v160Zm220 220h160v-160H400v160Zm0 220h160v-160H400v160ZM180-400h160v-160H180v160Zm440 0h160v-160H620v160ZM180-180h160v-160H180v160Zm440 0h160v-160H620v160Z\"/>\n",
              "  </svg>\n",
              "    </button>\n",
              "\n",
              "  <style>\n",
              "    .colab-df-container {\n",
              "      display:flex;\n",
              "      gap: 12px;\n",
              "    }\n",
              "\n",
              "    .colab-df-convert {\n",
              "      background-color: #E8F0FE;\n",
              "      border: none;\n",
              "      border-radius: 50%;\n",
              "      cursor: pointer;\n",
              "      display: none;\n",
              "      fill: #1967D2;\n",
              "      height: 32px;\n",
              "      padding: 0 0 0 0;\n",
              "      width: 32px;\n",
              "    }\n",
              "\n",
              "    .colab-df-convert:hover {\n",
              "      background-color: #E2EBFA;\n",
              "      box-shadow: 0px 1px 2px rgba(60, 64, 67, 0.3), 0px 1px 3px 1px rgba(60, 64, 67, 0.15);\n",
              "      fill: #174EA6;\n",
              "    }\n",
              "\n",
              "    .colab-df-buttons div {\n",
              "      margin-bottom: 4px;\n",
              "    }\n",
              "\n",
              "    [theme=dark] .colab-df-convert {\n",
              "      background-color: #3B4455;\n",
              "      fill: #D2E3FC;\n",
              "    }\n",
              "\n",
              "    [theme=dark] .colab-df-convert:hover {\n",
              "      background-color: #434B5C;\n",
              "      box-shadow: 0px 1px 3px 1px rgba(0, 0, 0, 0.15);\n",
              "      filter: drop-shadow(0px 1px 2px rgba(0, 0, 0, 0.3));\n",
              "      fill: #FFFFFF;\n",
              "    }\n",
              "  </style>\n",
              "\n",
              "    <script>\n",
              "      const buttonEl =\n",
              "        document.querySelector('#df-8a80b0e5-1e96-4b64-89fa-2f0165cdadd3 button.colab-df-convert');\n",
              "      buttonEl.style.display =\n",
              "        google.colab.kernel.accessAllowed ? 'block' : 'none';\n",
              "\n",
              "      async function convertToInteractive(key) {\n",
              "        const element = document.querySelector('#df-8a80b0e5-1e96-4b64-89fa-2f0165cdadd3');\n",
              "        const dataTable =\n",
              "          await google.colab.kernel.invokeFunction('convertToInteractive',\n",
              "                                                    [key], {});\n",
              "        if (!dataTable) return;\n",
              "\n",
              "        const docLinkHtml = 'Like what you see? Visit the ' +\n",
              "          '<a target=\"_blank\" href=https://colab.research.google.com/notebooks/data_table.ipynb>data table notebook</a>'\n",
              "          + ' to learn more about interactive tables.';\n",
              "        element.innerHTML = '';\n",
              "        dataTable['output_type'] = 'display_data';\n",
              "        await google.colab.output.renderOutput(dataTable, element);\n",
              "        const docLink = document.createElement('div');\n",
              "        docLink.innerHTML = docLinkHtml;\n",
              "        element.appendChild(docLink);\n",
              "      }\n",
              "    </script>\n",
              "  </div>\n",
              "\n",
              "    </div>\n",
              "  </div>\n"
            ]
          },
          "metadata": {},
          "execution_count": 11
        }
      ]
    },
    {
      "cell_type": "markdown",
      "source": [
        "Podemos ver que a categoria MODA é nível A dentro do método Curva ABC, porque são aqueles produtos que mais contribuem com o faturamento (44%), esses produtos devem ser priorizados para que sempre estejam disponíveis em estoque."
      ],
      "metadata": {
        "id": "ojHBFXUPVHfU"
      }
    },
    {
      "cell_type": "markdown",
      "source": [
        "**Qual o número de vendas online?**"
      ],
      "metadata": {
        "id": "M_WmN5f8igFi"
      }
    },
    {
      "cell_type": "code",
      "source": [
        "total_vendas_online = dados['Canal de venda'].value_counts(ascending=False).head(1)\n",
        "print(f'Total de vendas {total_vendas_online}')"
      ],
      "metadata": {
        "colab": {
          "base_uri": "https://localhost:8080/"
        },
        "id": "dP-uTSj9inyS",
        "outputId": "3d218033-1059-40ef-84c9-9bb72aff5ac2"
      },
      "execution_count": 12,
      "outputs": [
        {
          "output_type": "stream",
          "name": "stdout",
          "text": [
            "Total de vendas Online    3\n",
            "Name: Canal de venda, dtype: int64\n"
          ]
        }
      ]
    },
    {
      "cell_type": "markdown",
      "source": [
        "As vendas online representam 53,33% do faturamento e a maior parte das vendas em quantidade, se concentram na região Norte e Sul, temos que reforçar a estratégia da experiência de compra online para os clientes que compraram presencial."
      ],
      "metadata": {
        "id": "8c0NSSbQRbZp"
      }
    },
    {
      "cell_type": "markdown",
      "source": [
        "- **Qual o número de vendas presenciais?**\n"
      ],
      "metadata": {
        "id": "ZvDGFRcmpxHW"
      }
    },
    {
      "cell_type": "code",
      "source": [
        "total_vendas_presencial = dados['Canal de venda'].value_counts(ascending=True).head(1)\n",
        "print(f'Total de vendas {total_vendas_presencial}')"
      ],
      "metadata": {
        "colab": {
          "base_uri": "https://localhost:8080/"
        },
        "id": "JeHV4so4p30C",
        "outputId": "213e414b-5a2e-409a-c963-8b1efc864284"
      },
      "execution_count": 13,
      "outputs": [
        {
          "output_type": "stream",
          "name": "stdout",
          "text": [
            "Total de vendas Presencial    2\n",
            "Name: Canal de venda, dtype: int64\n"
          ]
        }
      ]
    },
    {
      "cell_type": "markdown",
      "source": [
        "As compras presenciais representam quase metade das vendas, se concentram na região sul e sudeste, podemos exercer influência para que os clientes que compraram online possam conhecer a loja através de descontos e com a possibilidade de experimentar os produtos, como forma de aumentar as vendas pelo canal presencial."
      ],
      "metadata": {
        "id": "kaFaq_1uRn2u"
      }
    },
    {
      "cell_type": "markdown",
      "source": [
        "## Considerações finais\n",
        "\n",
        "Como podemos verificar através dos dados, temos que reforçar o canal de venda presencial na região norte e o online na região sudeste, através de descontos e/ou experiência de experimentar os produtos, com foco na categoria MODA que até momento contribue com o faturamento de (44%), reforço também atenção ao estoque dos produtos A e B, a cada 5 dias são vendidos 2 produtos cada, correspondendo com mais de 75% do total vendido no período."
      ],
      "metadata": {
        "id": "GQtDFHp0qF9c"
      }
    }
  ]
}